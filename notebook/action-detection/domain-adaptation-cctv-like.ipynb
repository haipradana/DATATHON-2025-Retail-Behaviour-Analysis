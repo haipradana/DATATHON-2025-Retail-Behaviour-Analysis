{
 "cells": [
  {
   "cell_type": "markdown",
   "metadata": {},
   "source": [
    "## Sebelum membaca ini, baca dulu merl-shopping-train.ipynb"
   ]
  },
  {
   "cell_type": "markdown",
   "metadata": {},
   "source": [
    "Jadi, ini sama kayak notebook sebelumnya, perbedaannya pada ngetrain. ini aku fine tune dengan datasetku sdeniri (kurekam sendiri). totalnya cuma 50 an video, jadi keanya ngga terlalu perngaruh. Tapi buat nambah2 aja, videonya yaa tak rekam pake webcam dengan posisi agak di ujung gitu deh, mirip cctv ala2."
   ]
  },
  {
   "cell_type": "markdown",
   "metadata": {},
   "source": [
    "Karena datasetnya kecil, yaa hasil testnya kurang bisa merepresentasika secara statistik, lihat output, tapi yooo dah mayan jane. "
   ]
  },
  {
   "cell_type": "code",
   "execution_count": 1,
   "metadata": {
    "_cell_guid": "b1076dfc-b9ad-4769-8c92-a6c4dae69d19",
    "_uuid": "8f2839f25d086af736a60e9eeb907d3b93b6e0e5",
    "execution": {
     "iopub.execute_input": "2025-07-02T17:49:21.238519Z",
     "iopub.status.busy": "2025-07-02T17:49:21.237981Z",
     "iopub.status.idle": "2025-07-02T17:50:59.953374Z",
     "shell.execute_reply": "2025-07-02T17:50:59.952437Z",
     "shell.execute_reply.started": "2025-07-02T17:49:21.238499Z"
    },
    "trusted": true
   },
   "outputs": [
    {
     "name": "stdout",
     "output_type": "stream",
     "text": [
      "\u001b[2K   \u001b[90m━━━━━━━━━━━━━━━━━━━━━━━━━━━━━━━━━━━━━━━━\u001b[0m \u001b[32m365.3/365.3 kB\u001b[0m \u001b[31m9.9 MB/s\u001b[0m eta \u001b[36m0:00:00\u001b[0m:00:01\u001b[0m\n",
      "\u001b[2K   \u001b[90m━━━━━━━━━━━━━━━━━━━━━━━━━━━━━━━━━━━━━━━━\u001b[0m \u001b[32m84.1/84.1 kB\u001b[0m \u001b[31m4.6 MB/s\u001b[0m eta \u001b[36m0:00:00\u001b[0m\n",
      "\u001b[2K   \u001b[90m━━━━━━━━━━━━━━━━━━━━━━━━━━━━━━━━━━━━━━━━\u001b[0m \u001b[32m13.6/13.6 MB\u001b[0m \u001b[31m89.1 MB/s\u001b[0m eta \u001b[36m0:00:00\u001b[0m:00:01\u001b[0m0:01\u001b[0m\n",
      "\u001b[2K   \u001b[90m━━━━━━━━━━━━━━━━━━━━━━━━━━━━━━━━━━━━━━━━\u001b[0m \u001b[32m193.6/193.6 kB\u001b[0m \u001b[31m11.2 MB/s\u001b[0m eta \u001b[36m0:00:00\u001b[0m\n",
      "\u001b[2K   \u001b[90m━━━━━━━━━━━━━━━━━━━━━━━━━━━━━━━━━━━━━━━━\u001b[0m \u001b[32m363.4/363.4 MB\u001b[0m \u001b[31m4.7 MB/s\u001b[0m eta \u001b[36m0:00:00\u001b[0m0:00:01\u001b[0m00:01\u001b[0m\n",
      "\u001b[2K   \u001b[90m━━━━━━━━━━━━━━━━━━━━━━━━━━━━━━━━━━━━━━━━\u001b[0m \u001b[32m664.8/664.8 MB\u001b[0m \u001b[31m2.9 MB/s\u001b[0m eta \u001b[36m0:00:00\u001b[0m0:00:01\u001b[0m00:01\u001b[0m\n",
      "\u001b[2K   \u001b[90m━━━━━━━━━━━━━━━━━━━━━━━━━━━━━━━━━━━━━━━━\u001b[0m \u001b[32m211.5/211.5 MB\u001b[0m \u001b[31m2.0 MB/s\u001b[0m eta \u001b[36m0:00:00\u001b[0m:00:01\u001b[0m00:01\u001b[0m\n",
      "\u001b[2K   \u001b[90m━━━━━━━━━━━━━━━━━━━━━━━━━━━━━━━━━━━━━━━━\u001b[0m \u001b[32m56.3/56.3 MB\u001b[0m \u001b[31m24.2 MB/s\u001b[0m eta \u001b[36m0:00:00\u001b[0m00:01\u001b[0m00:01\u001b[0m\n",
      "\u001b[2K   \u001b[90m━━━━━━━━━━━━━━━━━━━━━━━━━━━━━━━━━━━━━━━━\u001b[0m \u001b[32m127.9/127.9 MB\u001b[0m \u001b[31m11.8 MB/s\u001b[0m eta \u001b[36m0:00:00\u001b[0m00:01\u001b[0m00:01\u001b[0m\n",
      "\u001b[2K   \u001b[90m━━━━━━━━━━━━━━━━━━━━━━━━━━━━━━━━━━━━━━━━\u001b[0m \u001b[32m207.5/207.5 MB\u001b[0m \u001b[31m7.8 MB/s\u001b[0m eta \u001b[36m0:00:00\u001b[0m:00:01\u001b[0m00:01\u001b[0m\n",
      "\u001b[2K   \u001b[90m━━━━━━━━━━━━━━━━━━━━━━━━━━━━━━━━━━━━━━━━\u001b[0m \u001b[32m21.1/21.1 MB\u001b[0m \u001b[31m54.2 MB/s\u001b[0m eta \u001b[36m0:00:00\u001b[0m00:01\u001b[0m00:01\u001b[0m\n",
      "\u001b[2K   \u001b[90m━━━━━━━━━━━━━━━━━━━━━━━━━━━━━━━━━━━━━━━━\u001b[0m \u001b[32m10.8/10.8 MB\u001b[0m \u001b[31m62.7 MB/s\u001b[0m eta \u001b[36m0:00:00\u001b[0m00:01\u001b[0m0:01\u001b[0m\n",
      "\u001b[?25h\u001b[31mERROR: pip's dependency resolver does not currently take into account all the packages that are installed. This behaviour is the source of the following dependency conflicts.\n",
      "cesium 0.12.4 requires numpy<3.0,>=2.0, but you have numpy 1.26.4 which is incompatible.\n",
      "bigframes 1.42.0 requires rich<14,>=12.4.4, but you have rich 14.0.0 which is incompatible.\n",
      "gcsfs 2025.3.2 requires fsspec==2025.3.2, but you have fsspec 2025.3.0 which is incompatible.\u001b[0m\u001b[31m\n",
      "\u001b[0m"
     ]
    }
   ],
   "source": [
    "!pip install --upgrade -q \"transformers[torch]\" accelerate datasets evaluate decord"
   ]
  },
  {
   "cell_type": "code",
   "execution_count": 2,
   "metadata": {
    "execution": {
     "iopub.execute_input": "2025-07-02T17:50:59.955276Z",
     "iopub.status.busy": "2025-07-02T17:50:59.955035Z",
     "iopub.status.idle": "2025-07-02T17:51:27.174663Z",
     "shell.execute_reply": "2025-07-02T17:51:27.174117Z",
     "shell.execute_reply.started": "2025-07-02T17:50:59.955252Z"
    },
    "trusted": true
   },
   "outputs": [
    {
     "name": "stderr",
     "output_type": "stream",
     "text": [
      "2025-07-02 17:51:09.275699: E external/local_xla/xla/stream_executor/cuda/cuda_fft.cc:477] Unable to register cuFFT factory: Attempting to register factory for plugin cuFFT when one has already been registered\n",
      "WARNING: All log messages before absl::InitializeLog() is called are written to STDERR\n",
      "E0000 00:00:1751478669.490452      35 cuda_dnn.cc:8310] Unable to register cuDNN factory: Attempting to register factory for plugin cuDNN when one has already been registered\n",
      "E0000 00:00:1751478669.553822      35 cuda_blas.cc:1418] Unable to register cuBLAS factory: Attempting to register factory for plugin cuBLAS when one has already been registered\n"
     ]
    }
   ],
   "source": [
    "import torch\n",
    "from torch import nn\n",
    "from transformers import AutoImageProcessor, AutoModelForVideoClassification, TrainingArguments, Trainer, EarlyStoppingCallback\n",
    "from huggingface_hub import snapshot_download\n",
    "import evaluate\n",
    "import numpy as np\n",
    "import os\n",
    "import pandas as pd\n",
    "from sklearn.model_selection import train_test_split\n",
    "from decord import VideoReader, cpu"
   ]
  },
  {
   "cell_type": "code",
   "execution_count": 3,
   "metadata": {
    "collapsed": true,
    "execution": {
     "iopub.execute_input": "2025-07-02T17:51:54.965188Z",
     "iopub.status.busy": "2025-07-02T17:51:54.964860Z",
     "iopub.status.idle": "2025-07-02T17:51:58.335965Z",
     "shell.execute_reply": "2025-07-02T17:51:58.335231Z",
     "shell.execute_reply.started": "2025-07-02T17:51:54.965169Z"
    },
    "jupyter": {
     "outputs_hidden": true
    },
    "trusted": true
   },
   "outputs": [
    {
     "name": "stdout",
     "output_type": "stream",
     "text": [
      "Downloading new CCTV dataset from: haipradana/action\n"
     ]
    },
    {
     "data": {
      "application/vnd.jupyter.widget-view+json": {
       "model_id": "50a3db99cf7d4662a6a75b11dbb84188",
       "version_major": 2,
       "version_minor": 0
      },
      "text/plain": [
       "Fetching 105 files:   0%|          | 0/105 [00:00<?, ?it/s]"
      ]
     },
     "metadata": {},
     "output_type": "display_data"
    },
    {
     "data": {
      "application/vnd.jupyter.widget-view+json": {
       "model_id": "94e69e73a0d246e6a143ebbb40a72c7d",
       "version_major": 2,
       "version_minor": 0
      },
      "text/plain": [
       "0_6_label.mat:   0%|          | 0.00/528 [00:00<?, ?B/s]"
      ]
     },
     "metadata": {},
     "output_type": "display_data"
    },
    {
     "data": {
      "application/vnd.jupyter.widget-view+json": {
       "model_id": "97fa500efedb4e699c6855d97d82f3c9",
       "version_major": 2,
       "version_minor": 0
      },
      "text/plain": [
       "0_3_label.mat:   0%|          | 0.00/528 [00:00<?, ?B/s]"
      ]
     },
     "metadata": {},
     "output_type": "display_data"
    },
    {
     "data": {
      "application/vnd.jupyter.widget-view+json": {
       "model_id": "09ae2dde5a4d4f3181a5ead5a1d81579",
       "version_major": 2,
       "version_minor": 0
      },
      "text/plain": [
       "0_2_label.mat:   0%|          | 0.00/528 [00:00<?, ?B/s]"
      ]
     },
     "metadata": {},
     "output_type": "display_data"
    },
    {
     "data": {
      "application/vnd.jupyter.widget-view+json": {
       "model_id": "a0994a8344a8438a87ad7a9349a3c7df",
       "version_major": 2,
       "version_minor": 0
      },
      "text/plain": [
       "0_1_label.mat:   0%|          | 0.00/528 [00:00<?, ?B/s]"
      ]
     },
     "metadata": {},
     "output_type": "display_data"
    },
    {
     "data": {
      "application/vnd.jupyter.widget-view+json": {
       "model_id": "98460667247941d8a28cc8d1aa2834c7",
       "version_major": 2,
       "version_minor": 0
      },
      "text/plain": [
       ".gitattributes: 0.00B [00:00, ?B/s]"
      ]
     },
     "metadata": {},
     "output_type": "display_data"
    },
    {
     "data": {
      "application/vnd.jupyter.widget-view+json": {
       "model_id": "bd7f71692d164aaa951bf92dccb25117",
       "version_major": 2,
       "version_minor": 0
      },
      "text/plain": [
       "0_5_label.mat:   0%|          | 0.00/528 [00:00<?, ?B/s]"
      ]
     },
     "metadata": {},
     "output_type": "display_data"
    },
    {
     "data": {
      "application/vnd.jupyter.widget-view+json": {
       "model_id": "9b8a14903dc2467eb43cc8d63a10782d",
       "version_major": 2,
       "version_minor": 0
      },
      "text/plain": [
       "0_7_label.mat:   0%|          | 0.00/528 [00:00<?, ?B/s]"
      ]
     },
     "metadata": {},
     "output_type": "display_data"
    },
    {
     "data": {
      "application/vnd.jupyter.widget-view+json": {
       "model_id": "93b3cc1ff6b844a695e9d9ae6a17bf6e",
       "version_major": 2,
       "version_minor": 0
      },
      "text/plain": [
       "0_4_label.mat:   0%|          | 0.00/528 [00:00<?, ?B/s]"
      ]
     },
     "metadata": {},
     "output_type": "display_data"
    },
    {
     "data": {
      "application/vnd.jupyter.widget-view+json": {
       "model_id": "6b2acedf8c214c8db420140ee65292d9",
       "version_major": 2,
       "version_minor": 0
      },
      "text/plain": [
       "1_1_label.mat:   0%|          | 0.00/528 [00:00<?, ?B/s]"
      ]
     },
     "metadata": {},
     "output_type": "display_data"
    },
    {
     "data": {
      "application/vnd.jupyter.widget-view+json": {
       "model_id": "4c7fdb34e52643fba2a68fa075b18766",
       "version_major": 2,
       "version_minor": 0
      },
      "text/plain": [
       "1_2_label.mat:   0%|          | 0.00/528 [00:00<?, ?B/s]"
      ]
     },
     "metadata": {},
     "output_type": "display_data"
    },
    {
     "data": {
      "application/vnd.jupyter.widget-view+json": {
       "model_id": "6d4bf9a691a54985bb75b048fc7f43bc",
       "version_major": 2,
       "version_minor": 0
      },
      "text/plain": [
       "4_4_label.mat:   0%|          | 0.00/528 [00:00<?, ?B/s]"
      ]
     },
     "metadata": {},
     "output_type": "display_data"
    },
    {
     "data": {
      "application/vnd.jupyter.widget-view+json": {
       "model_id": "768ea300eab84ad490aca486161a4977",
       "version_major": 2,
       "version_minor": 0
      },
      "text/plain": [
       "3_8_label.mat:   0%|          | 0.00/528 [00:00<?, ?B/s]"
      ]
     },
     "metadata": {},
     "output_type": "display_data"
    },
    {
     "data": {
      "application/vnd.jupyter.widget-view+json": {
       "model_id": "68917adb05894425bbb172888b427747",
       "version_major": 2,
       "version_minor": 0
      },
      "text/plain": [
       "4_1_label.mat:   0%|          | 0.00/528 [00:00<?, ?B/s]"
      ]
     },
     "metadata": {},
     "output_type": "display_data"
    },
    {
     "data": {
      "application/vnd.jupyter.widget-view+json": {
       "model_id": "1eddbbf84c05495c9f8055e0bc63f858",
       "version_major": 2,
       "version_minor": 0
      },
      "text/plain": [
       "4_5_label.mat:   0%|          | 0.00/528 [00:00<?, ?B/s]"
      ]
     },
     "metadata": {},
     "output_type": "display_data"
    },
    {
     "data": {
      "application/vnd.jupyter.widget-view+json": {
       "model_id": "9ef5ad8e26384913b60e0dad33c3e3a7",
       "version_major": 2,
       "version_minor": 0
      },
      "text/plain": [
       "4_6_label.mat:   0%|          | 0.00/528 [00:00<?, ?B/s]"
      ]
     },
     "metadata": {},
     "output_type": "display_data"
    },
    {
     "data": {
      "application/vnd.jupyter.widget-view+json": {
       "model_id": "d33d4e1a0c764baa98cc056901dd6a05",
       "version_major": 2,
       "version_minor": 0
      },
      "text/plain": [
       "4_8_label.mat:   0%|          | 0.00/528 [00:00<?, ?B/s]"
      ]
     },
     "metadata": {},
     "output_type": "display_data"
    },
    {
     "data": {
      "application/vnd.jupyter.widget-view+json": {
       "model_id": "780ffcd83959494294f9b16eab5f2e5f",
       "version_major": 2,
       "version_minor": 0
      },
      "text/plain": [
       "4_9_label.mat:   0%|          | 0.00/528 [00:00<?, ?B/s]"
      ]
     },
     "metadata": {},
     "output_type": "display_data"
    },
    {
     "data": {
      "application/vnd.jupyter.widget-view+json": {
       "model_id": "c58b7749725142deb2c3e49041f25190",
       "version_major": 2,
       "version_minor": 0
      },
      "text/plain": [
       "5_3_label.mat:   0%|          | 0.00/528 [00:00<?, ?B/s]"
      ]
     },
     "metadata": {},
     "output_type": "display_data"
    },
    {
     "data": {
      "application/vnd.jupyter.widget-view+json": {
       "model_id": "e8ad5f72efb04171ac17fe1d407fff99",
       "version_major": 2,
       "version_minor": 0
      },
      "text/plain": [
       "4_7_label.mat:   0%|          | 0.00/528 [00:00<?, ?B/s]"
      ]
     },
     "metadata": {},
     "output_type": "display_data"
    },
    {
     "data": {
      "application/vnd.jupyter.widget-view+json": {
       "model_id": "64eb31644a664a0fa1cc33ce0a972b6d",
       "version_major": 2,
       "version_minor": 0
      },
      "text/plain": [
       "5_4_label.mat:   0%|          | 0.00/528 [00:00<?, ?B/s]"
      ]
     },
     "metadata": {},
     "output_type": "display_data"
    },
    {
     "data": {
      "application/vnd.jupyter.widget-view+json": {
       "model_id": "014ad36a3616467896eb15e73be682b6",
       "version_major": 2,
       "version_minor": 0
      },
      "text/plain": [
       "5_2_label.mat:   0%|          | 0.00/528 [00:00<?, ?B/s]"
      ]
     },
     "metadata": {},
     "output_type": "display_data"
    },
    {
     "data": {
      "application/vnd.jupyter.widget-view+json": {
       "model_id": "b68cf3ecf7a04d9c8f4c157c045eeee1",
       "version_major": 2,
       "version_minor": 0
      },
      "text/plain": [
       "5_5_label.mat:   0%|          | 0.00/528 [00:00<?, ?B/s]"
      ]
     },
     "metadata": {},
     "output_type": "display_data"
    },
    {
     "data": {
      "application/vnd.jupyter.widget-view+json": {
       "model_id": "bb60bb994b60447ab822efcdf48c4199",
       "version_major": 2,
       "version_minor": 0
      },
      "text/plain": [
       "5_1_label.mat:   0%|          | 0.00/528 [00:00<?, ?B/s]"
      ]
     },
     "metadata": {},
     "output_type": "display_data"
    },
    {
     "data": {
      "application/vnd.jupyter.widget-view+json": {
       "model_id": "6e62ea8618694982b82eb59b138cdbd1",
       "version_major": 2,
       "version_minor": 0
      },
      "text/plain": [
       "5_7_label.mat:   0%|          | 0.00/528 [00:00<?, ?B/s]"
      ]
     },
     "metadata": {},
     "output_type": "display_data"
    },
    {
     "data": {
      "application/vnd.jupyter.widget-view+json": {
       "model_id": "188242c4ad9d47ec84ef50ce0d9f0e11",
       "version_major": 2,
       "version_minor": 0
      },
      "text/plain": [
       "5_6_label.mat:   0%|          | 0.00/528 [00:00<?, ?B/s]"
      ]
     },
     "metadata": {},
     "output_type": "display_data"
    },
    {
     "data": {
      "application/vnd.jupyter.widget-view+json": {
       "model_id": "7859ed3b03cf48ceaf4568e74cf0395a",
       "version_major": 2,
       "version_minor": 0
      },
      "text/plain": [
       "5_8_label.mat:   0%|          | 0.00/528 [00:00<?, ?B/s]"
      ]
     },
     "metadata": {},
     "output_type": "display_data"
    },
    {
     "data": {
      "application/vnd.jupyter.widget-view+json": {
       "model_id": "8afab2177787421390b3af08a930f02b",
       "version_major": 2,
       "version_minor": 0
      },
      "text/plain": [
       "0_1.mp4:   0%|          | 0.00/7.02M [00:00<?, ?B/s]"
      ]
     },
     "metadata": {},
     "output_type": "display_data"
    },
    {
     "data": {
      "application/vnd.jupyter.widget-view+json": {
       "model_id": "b80d7b912951428bb32eaef203474db7",
       "version_major": 2,
       "version_minor": 0
      },
      "text/plain": [
       "0_4.mp4:   0%|          | 0.00/4.79M [00:00<?, ?B/s]"
      ]
     },
     "metadata": {},
     "output_type": "display_data"
    },
    {
     "data": {
      "application/vnd.jupyter.widget-view+json": {
       "model_id": "c2c8818f4e0846149ee2f452e4dadcae",
       "version_major": 2,
       "version_minor": 0
      },
      "text/plain": [
       "0_3.mp4:   0%|          | 0.00/7.02M [00:00<?, ?B/s]"
      ]
     },
     "metadata": {},
     "output_type": "display_data"
    },
    {
     "data": {
      "application/vnd.jupyter.widget-view+json": {
       "model_id": "93f316c350f94431b3be0c7b1788864a",
       "version_major": 2,
       "version_minor": 0
      },
      "text/plain": [
       "0_2.mp4:   0%|          | 0.00/3.71M [00:00<?, ?B/s]"
      ]
     },
     "metadata": {},
     "output_type": "display_data"
    },
    {
     "data": {
      "application/vnd.jupyter.widget-view+json": {
       "model_id": "cddc7e4317c74d5381a5c43713c1cc52",
       "version_major": 2,
       "version_minor": 0
      },
      "text/plain": [
       "0_5.mp4:   0%|          | 0.00/4.66M [00:00<?, ?B/s]"
      ]
     },
     "metadata": {},
     "output_type": "display_data"
    },
    {
     "data": {
      "application/vnd.jupyter.widget-view+json": {
       "model_id": "8136595da16b468b9a3e25b506984914",
       "version_major": 2,
       "version_minor": 0
      },
      "text/plain": [
       "0_6.mp4:   0%|          | 0.00/5.11M [00:00<?, ?B/s]"
      ]
     },
     "metadata": {},
     "output_type": "display_data"
    },
    {
     "data": {
      "application/vnd.jupyter.widget-view+json": {
       "model_id": "fc638bc619fe4e0c97ed0b26059b419a",
       "version_major": 2,
       "version_minor": 0
      },
      "text/plain": [
       "1_1.mp4:   0%|          | 0.00/2.29M [00:00<?, ?B/s]"
      ]
     },
     "metadata": {},
     "output_type": "display_data"
    },
    {
     "data": {
      "application/vnd.jupyter.widget-view+json": {
       "model_id": "53e802c0f98c4795b3ceab7fbdf3fdfb",
       "version_major": 2,
       "version_minor": 0
      },
      "text/plain": [
       "0_7.mp4:   0%|          | 0.00/6.57M [00:00<?, ?B/s]"
      ]
     },
     "metadata": {},
     "output_type": "display_data"
    },
    {
     "data": {
      "application/vnd.jupyter.widget-view+json": {
       "model_id": "659e63c858454591b4fc713eed1eaf83",
       "version_major": 2,
       "version_minor": 0
      },
      "text/plain": [
       "1_2.mp4:   0%|          | 0.00/4.30M [00:00<?, ?B/s]"
      ]
     },
     "metadata": {},
     "output_type": "display_data"
    },
    {
     "data": {
      "application/vnd.jupyter.widget-view+json": {
       "model_id": "7e5afe97f13d44e283a95a6601b520d8",
       "version_major": 2,
       "version_minor": 0
      },
      "text/plain": [
       "1_3.mp4:   0%|          | 0.00/3.88M [00:00<?, ?B/s]"
      ]
     },
     "metadata": {},
     "output_type": "display_data"
    },
    {
     "data": {
      "application/vnd.jupyter.widget-view+json": {
       "model_id": "afadfd33e4ff4007a4d86686c7376bc4",
       "version_major": 2,
       "version_minor": 0
      },
      "text/plain": [
       "1_4.mp4:   0%|          | 0.00/2.12M [00:00<?, ?B/s]"
      ]
     },
     "metadata": {},
     "output_type": "display_data"
    },
    {
     "data": {
      "application/vnd.jupyter.widget-view+json": {
       "model_id": "4c3d9004a9f6423da43cddd1e6a95b24",
       "version_major": 2,
       "version_minor": 0
      },
      "text/plain": [
       "1_5.mp4:   0%|          | 0.00/2.58M [00:00<?, ?B/s]"
      ]
     },
     "metadata": {},
     "output_type": "display_data"
    },
    {
     "data": {
      "application/vnd.jupyter.widget-view+json": {
       "model_id": "f4aa0c6c1f3443cf9e3b8639d602f4e1",
       "version_major": 2,
       "version_minor": 0
      },
      "text/plain": [
       "1_6.mp4:   0%|          | 0.00/2.38M [00:00<?, ?B/s]"
      ]
     },
     "metadata": {},
     "output_type": "display_data"
    },
    {
     "data": {
      "application/vnd.jupyter.widget-view+json": {
       "model_id": "0b8a2daf0d9b4b2ab8917e05fedcb632",
       "version_major": 2,
       "version_minor": 0
      },
      "text/plain": [
       "1_7.mp4:   0%|          | 0.00/2.85M [00:00<?, ?B/s]"
      ]
     },
     "metadata": {},
     "output_type": "display_data"
    },
    {
     "data": {
      "application/vnd.jupyter.widget-view+json": {
       "model_id": "c361d3c6fe8a47ff8114a9dcd674eb83",
       "version_major": 2,
       "version_minor": 0
      },
      "text/plain": [
       "1_8.mp4:   0%|          | 0.00/2.60M [00:00<?, ?B/s]"
      ]
     },
     "metadata": {},
     "output_type": "display_data"
    },
    {
     "data": {
      "application/vnd.jupyter.widget-view+json": {
       "model_id": "9bc719ce122b43b6813a6ef0df79f1f3",
       "version_major": 2,
       "version_minor": 0
      },
      "text/plain": [
       "1_9.mp4:   0%|          | 0.00/1.86M [00:00<?, ?B/s]"
      ]
     },
     "metadata": {},
     "output_type": "display_data"
    },
    {
     "data": {
      "application/vnd.jupyter.widget-view+json": {
       "model_id": "885e246f6ffc4a8ba8620e2cdcc74062",
       "version_major": 2,
       "version_minor": 0
      },
      "text/plain": [
       "2_1.mp4:   0%|          | 0.00/5.50M [00:00<?, ?B/s]"
      ]
     },
     "metadata": {},
     "output_type": "display_data"
    },
    {
     "data": {
      "application/vnd.jupyter.widget-view+json": {
       "model_id": "1d94945fd31f4df5927f21863b4727df",
       "version_major": 2,
       "version_minor": 0
      },
      "text/plain": [
       "2_5.mp4:   0%|          | 0.00/3.03M [00:00<?, ?B/s]"
      ]
     },
     "metadata": {},
     "output_type": "display_data"
    },
    {
     "data": {
      "application/vnd.jupyter.widget-view+json": {
       "model_id": "e9fc61b7841f4801ac185eff7acf8b58",
       "version_major": 2,
       "version_minor": 0
      },
      "text/plain": [
       "2_6.mp4:   0%|          | 0.00/2.61M [00:00<?, ?B/s]"
      ]
     },
     "metadata": {},
     "output_type": "display_data"
    },
    {
     "data": {
      "application/vnd.jupyter.widget-view+json": {
       "model_id": "ba246afd3dd14c23bcc19565ab556023",
       "version_major": 2,
       "version_minor": 0
      },
      "text/plain": [
       "2_7.mp4:   0%|          | 0.00/1.28M [00:00<?, ?B/s]"
      ]
     },
     "metadata": {},
     "output_type": "display_data"
    },
    {
     "data": {
      "application/vnd.jupyter.widget-view+json": {
       "model_id": "c6a470c7020a4fcc9f7e36b9fdcf7d4d",
       "version_major": 2,
       "version_minor": 0
      },
      "text/plain": [
       "2_2.mp4:   0%|          | 0.00/4.23M [00:00<?, ?B/s]"
      ]
     },
     "metadata": {},
     "output_type": "display_data"
    },
    {
     "data": {
      "application/vnd.jupyter.widget-view+json": {
       "model_id": "c8e7b9d555c1478bb9029dfeced8af52",
       "version_major": 2,
       "version_minor": 0
      },
      "text/plain": [
       "2_4.mp4:   0%|          | 0.00/3.43M [00:00<?, ?B/s]"
      ]
     },
     "metadata": {},
     "output_type": "display_data"
    },
    {
     "data": {
      "application/vnd.jupyter.widget-view+json": {
       "model_id": "f2b703afe6ab40b793a6f3ab3bd440a3",
       "version_major": 2,
       "version_minor": 0
      },
      "text/plain": [
       "2_3.mp4:   0%|          | 0.00/4.60M [00:00<?, ?B/s]"
      ]
     },
     "metadata": {},
     "output_type": "display_data"
    },
    {
     "data": {
      "application/vnd.jupyter.widget-view+json": {
       "model_id": "9f7d9a04d6a84d408fc19460cdecb4a3",
       "version_major": 2,
       "version_minor": 0
      },
      "text/plain": [
       "2_8.mp4:   0%|          | 0.00/2.90M [00:00<?, ?B/s]"
      ]
     },
     "metadata": {},
     "output_type": "display_data"
    },
    {
     "data": {
      "application/vnd.jupyter.widget-view+json": {
       "model_id": "48b733bb9bff41d8b25a501ba38b060f",
       "version_major": 2,
       "version_minor": 0
      },
      "text/plain": [
       "2_9.mp4:   0%|          | 0.00/3.12M [00:00<?, ?B/s]"
      ]
     },
     "metadata": {},
     "output_type": "display_data"
    },
    {
     "data": {
      "application/vnd.jupyter.widget-view+json": {
       "model_id": "d3ef2743afe94e1294419a87d761fc7c",
       "version_major": 2,
       "version_minor": 0
      },
      "text/plain": [
       "3_10.mp4:   0%|          | 0.00/6.31M [00:00<?, ?B/s]"
      ]
     },
     "metadata": {},
     "output_type": "display_data"
    },
    {
     "data": {
      "application/vnd.jupyter.widget-view+json": {
       "model_id": "0bec5a00cf1541b29fa46f9d6bce51ba",
       "version_major": 2,
       "version_minor": 0
      },
      "text/plain": [
       "3_2.mp4:   0%|          | 0.00/4.57M [00:00<?, ?B/s]"
      ]
     },
     "metadata": {},
     "output_type": "display_data"
    },
    {
     "data": {
      "application/vnd.jupyter.widget-view+json": {
       "model_id": "9fbc880ff04f46e58c3c4f574522661d",
       "version_major": 2,
       "version_minor": 0
      },
      "text/plain": [
       "3_1.mp4:   0%|          | 0.00/3.38M [00:00<?, ?B/s]"
      ]
     },
     "metadata": {},
     "output_type": "display_data"
    },
    {
     "data": {
      "application/vnd.jupyter.widget-view+json": {
       "model_id": "5283348f255c4d368fa2644fdc78bbe7",
       "version_major": 2,
       "version_minor": 0
      },
      "text/plain": [
       "3_3.mp4:   0%|          | 0.00/2.16M [00:00<?, ?B/s]"
      ]
     },
     "metadata": {},
     "output_type": "display_data"
    },
    {
     "data": {
      "application/vnd.jupyter.widget-view+json": {
       "model_id": "a0542228b30644899767e2caf9521171",
       "version_major": 2,
       "version_minor": 0
      },
      "text/plain": [
       "3_4.mp4:   0%|          | 0.00/13.8M [00:00<?, ?B/s]"
      ]
     },
     "metadata": {},
     "output_type": "display_data"
    },
    {
     "data": {
      "application/vnd.jupyter.widget-view+json": {
       "model_id": "aa4aaf2674564b27a2648a165ce6a172",
       "version_major": 2,
       "version_minor": 0
      },
      "text/plain": [
       "3_8.mp4:   0%|          | 0.00/2.20M [00:00<?, ?B/s]"
      ]
     },
     "metadata": {},
     "output_type": "display_data"
    },
    {
     "data": {
      "application/vnd.jupyter.widget-view+json": {
       "model_id": "5323dc5c8a3d459cb93cdd20e92496a5",
       "version_major": 2,
       "version_minor": 0
      },
      "text/plain": [
       "3_9.mp4:   0%|          | 0.00/4.54M [00:00<?, ?B/s]"
      ]
     },
     "metadata": {},
     "output_type": "display_data"
    },
    {
     "data": {
      "application/vnd.jupyter.widget-view+json": {
       "model_id": "fc91a7e2cddc4efdb00766fa9cfb27f8",
       "version_major": 2,
       "version_minor": 0
      },
      "text/plain": [
       "4_2.mp4:   0%|          | 0.00/3.01M [00:00<?, ?B/s]"
      ]
     },
     "metadata": {},
     "output_type": "display_data"
    },
    {
     "data": {
      "application/vnd.jupyter.widget-view+json": {
       "model_id": "b1c256f344f34556b4b1d051c2083097",
       "version_major": 2,
       "version_minor": 0
      },
      "text/plain": [
       "4_1.mp4:   0%|          | 0.00/8.29M [00:00<?, ?B/s]"
      ]
     },
     "metadata": {},
     "output_type": "display_data"
    },
    {
     "data": {
      "application/vnd.jupyter.widget-view+json": {
       "model_id": "dea0ba89a13b4f78bcb1b7988f6e18ba",
       "version_major": 2,
       "version_minor": 0
      },
      "text/plain": [
       "4_5.mp4:   0%|          | 0.00/4.20M [00:00<?, ?B/s]"
      ]
     },
     "metadata": {},
     "output_type": "display_data"
    },
    {
     "data": {
      "application/vnd.jupyter.widget-view+json": {
       "model_id": "289a351d58c54ec5b5536bf351d8df16",
       "version_major": 2,
       "version_minor": 0
      },
      "text/plain": [
       "4_3.mp4:   0%|          | 0.00/9.01M [00:00<?, ?B/s]"
      ]
     },
     "metadata": {},
     "output_type": "display_data"
    },
    {
     "data": {
      "application/vnd.jupyter.widget-view+json": {
       "model_id": "c560af48ddf9483cb03b08204511d2d3",
       "version_major": 2,
       "version_minor": 0
      },
      "text/plain": [
       "4_4.mp4:   0%|          | 0.00/5.72M [00:00<?, ?B/s]"
      ]
     },
     "metadata": {},
     "output_type": "display_data"
    },
    {
     "data": {
      "application/vnd.jupyter.widget-view+json": {
       "model_id": "873ae0899372438e8c11a7bdfa8b1fc6",
       "version_major": 2,
       "version_minor": 0
      },
      "text/plain": [
       "4_6.mp4:   0%|          | 0.00/8.14M [00:00<?, ?B/s]"
      ]
     },
     "metadata": {},
     "output_type": "display_data"
    },
    {
     "data": {
      "application/vnd.jupyter.widget-view+json": {
       "model_id": "5aa834c9641c494480c8e9cafec3d6c0",
       "version_major": 2,
       "version_minor": 0
      },
      "text/plain": [
       "4_7.mp4:   0%|          | 0.00/8.53M [00:00<?, ?B/s]"
      ]
     },
     "metadata": {},
     "output_type": "display_data"
    },
    {
     "data": {
      "application/vnd.jupyter.widget-view+json": {
       "model_id": "33d829963a5841a4a5fbbd0da696e00c",
       "version_major": 2,
       "version_minor": 0
      },
      "text/plain": [
       "4_8.mp4:   0%|          | 0.00/3.16M [00:00<?, ?B/s]"
      ]
     },
     "metadata": {},
     "output_type": "display_data"
    },
    {
     "data": {
      "application/vnd.jupyter.widget-view+json": {
       "model_id": "30e37bfa1ba6456ea6f498d5a2bced46",
       "version_major": 2,
       "version_minor": 0
      },
      "text/plain": [
       "4_9.mp4:   0%|          | 0.00/3.54M [00:00<?, ?B/s]"
      ]
     },
     "metadata": {},
     "output_type": "display_data"
    },
    {
     "data": {
      "application/vnd.jupyter.widget-view+json": {
       "model_id": "69715f0b8206404ebf41891fa5acf0d1",
       "version_major": 2,
       "version_minor": 0
      },
      "text/plain": [
       "5_2.mp4:   0%|          | 0.00/7.63M [00:00<?, ?B/s]"
      ]
     },
     "metadata": {},
     "output_type": "display_data"
    },
    {
     "data": {
      "application/vnd.jupyter.widget-view+json": {
       "model_id": "7b680a5d484041c6934bc478bef6387a",
       "version_major": 2,
       "version_minor": 0
      },
      "text/plain": [
       "5_1.mp4:   0%|          | 0.00/7.33M [00:00<?, ?B/s]"
      ]
     },
     "metadata": {},
     "output_type": "display_data"
    },
    {
     "data": {
      "application/vnd.jupyter.widget-view+json": {
       "model_id": "ca6014e4505540998b76c932b2c3765b",
       "version_major": 2,
       "version_minor": 0
      },
      "text/plain": [
       "5_3.mp4:   0%|          | 0.00/2.44M [00:00<?, ?B/s]"
      ]
     },
     "metadata": {},
     "output_type": "display_data"
    },
    {
     "data": {
      "application/vnd.jupyter.widget-view+json": {
       "model_id": "2e97219609944a68be8365d3b71f603f",
       "version_major": 2,
       "version_minor": 0
      },
      "text/plain": [
       "5_4.mp4:   0%|          | 0.00/4.92M [00:00<?, ?B/s]"
      ]
     },
     "metadata": {},
     "output_type": "display_data"
    },
    {
     "data": {
      "application/vnd.jupyter.widget-view+json": {
       "model_id": "52325bcda76145998bd0bae189f0c44e",
       "version_major": 2,
       "version_minor": 0
      },
      "text/plain": [
       "5_5.mp4:   0%|          | 0.00/2.02M [00:00<?, ?B/s]"
      ]
     },
     "metadata": {},
     "output_type": "display_data"
    },
    {
     "data": {
      "application/vnd.jupyter.widget-view+json": {
       "model_id": "29fa34274e9f40589d24396fec232e24",
       "version_major": 2,
       "version_minor": 0
      },
      "text/plain": [
       "5_6.mp4:   0%|          | 0.00/1.88M [00:00<?, ?B/s]"
      ]
     },
     "metadata": {},
     "output_type": "display_data"
    },
    {
     "data": {
      "application/vnd.jupyter.widget-view+json": {
       "model_id": "e5d43d263e47409aba32726c2bc9ec81",
       "version_major": 2,
       "version_minor": 0
      },
      "text/plain": [
       "5_7.mp4:   0%|          | 0.00/6.09M [00:00<?, ?B/s]"
      ]
     },
     "metadata": {},
     "output_type": "display_data"
    },
    {
     "data": {
      "application/vnd.jupyter.widget-view+json": {
       "model_id": "d3adc9e78ad24fbb87bdcdc29514f662",
       "version_major": 2,
       "version_minor": 0
      },
      "text/plain": [
       "5_8.mp4:   0%|          | 0.00/6.72M [00:00<?, ?B/s]"
      ]
     },
     "metadata": {},
     "output_type": "display_data"
    },
    {
     "name": "stdout",
     "output_type": "stream",
     "text": [
      "Dataset baru berhasil diunduh.\n"
     ]
    }
   ],
   "source": [
    "NEW_DATASET_REPO_ID = \"haipradana/action\" \n",
    "\n",
    "WORK_DIR = \"/kaggle/working\"\n",
    "DATASET_DIR = os.path.join(WORK_DIR, \"CCTV_Shopping_Dataset\")\n",
    "\n",
    "print(f\"Downloading new CCTV dataset from: {NEW_DATASET_REPO_ID}\")\n",
    "snapshot_download(\n",
    "    repo_id=NEW_DATASET_REPO_ID,\n",
    "    repo_type=\"dataset\",\n",
    "    local_dir=DATASET_DIR\n",
    ")\n",
    "print(\"Dataset baru berhasil diunduh.\")\n",
    "\n",
    "VIDEOS_DIR = os.path.join(DATASET_DIR, \"videos\")\n",
    "LABELS_DIR = os.path.join(DATASET_DIR, \"labels\")"
   ]
  },
  {
   "cell_type": "code",
   "execution_count": 4,
   "metadata": {
    "execution": {
     "iopub.execute_input": "2025-07-02T17:52:09.501236Z",
     "iopub.status.busy": "2025-07-02T17:52:09.500618Z",
     "iopub.status.idle": "2025-07-02T17:52:09.600737Z",
     "shell.execute_reply": "2025-07-02T17:52:09.600190Z",
     "shell.execute_reply.started": "2025-07-02T17:52:09.501207Z"
    },
    "trusted": true
   },
   "outputs": [
    {
     "name": "stdout",
     "output_type": "stream",
     "text": [
      "Creating master DataFrame from labels...\n",
      "DataFrame created with 52 clips.\n",
      "\n",
      "Class Distribution:\n",
      "class\n",
      "0     7\n",
      "1     9\n",
      "2     9\n",
      "3    10\n",
      "4     9\n",
      "5     8\n",
      "Name: count, dtype: int64\n"
     ]
    },
    {
     "data": {
      "text/html": [
       "<div>\n",
       "<style scoped>\n",
       "    .dataframe tbody tr th:only-of-type {\n",
       "        vertical-align: middle;\n",
       "    }\n",
       "\n",
       "    .dataframe tbody tr th {\n",
       "        vertical-align: top;\n",
       "    }\n",
       "\n",
       "    .dataframe thead th {\n",
       "        text-align: right;\n",
       "    }\n",
       "</style>\n",
       "<table border=\"1\" class=\"dataframe\">\n",
       "  <thead>\n",
       "    <tr style=\"text-align: right;\">\n",
       "      <th></th>\n",
       "      <th>video_id</th>\n",
       "      <th>start_frame</th>\n",
       "      <th>end_frame</th>\n",
       "      <th>class</th>\n",
       "      <th>duration</th>\n",
       "    </tr>\n",
       "  </thead>\n",
       "  <tbody>\n",
       "    <tr>\n",
       "      <th>0</th>\n",
       "      <td>0_1</td>\n",
       "      <td>0</td>\n",
       "      <td>171</td>\n",
       "      <td>0</td>\n",
       "      <td>171</td>\n",
       "    </tr>\n",
       "    <tr>\n",
       "      <th>1</th>\n",
       "      <td>0_2</td>\n",
       "      <td>0</td>\n",
       "      <td>86</td>\n",
       "      <td>0</td>\n",
       "      <td>86</td>\n",
       "    </tr>\n",
       "    <tr>\n",
       "      <th>2</th>\n",
       "      <td>0_3</td>\n",
       "      <td>0</td>\n",
       "      <td>166</td>\n",
       "      <td>0</td>\n",
       "      <td>166</td>\n",
       "    </tr>\n",
       "    <tr>\n",
       "      <th>3</th>\n",
       "      <td>0_4</td>\n",
       "      <td>0</td>\n",
       "      <td>114</td>\n",
       "      <td>0</td>\n",
       "      <td>114</td>\n",
       "    </tr>\n",
       "    <tr>\n",
       "      <th>4</th>\n",
       "      <td>0_5</td>\n",
       "      <td>0</td>\n",
       "      <td>109</td>\n",
       "      <td>0</td>\n",
       "      <td>109</td>\n",
       "    </tr>\n",
       "  </tbody>\n",
       "</table>\n",
       "</div>"
      ],
      "text/plain": [
       "  video_id  start_frame  end_frame  class  duration\n",
       "0      0_1            0        171      0       171\n",
       "1      0_2            0         86      0        86\n",
       "2      0_3            0        166      0       166\n",
       "3      0_4            0        114      0       114\n",
       "4      0_5            0        109      0       109"
      ]
     },
     "execution_count": 4,
     "metadata": {},
     "output_type": "execute_result"
    }
   ],
   "source": [
    "import pandas as pd\n",
    "import glob\n",
    "import re\n",
    "from scipy.io import loadmat\n",
    "import numpy as np\n",
    "\n",
    "# Pertahankan fungsi load_mat_labels Anda\n",
    "def load_mat_labels(label_path):\n",
    "    try:\n",
    "        mat_data = loadmat(label_path)\n",
    "        if 'tlabs' in mat_data: return mat_data['tlabs']\n",
    "        data_keys = [k for k in mat_data.keys() if not k.startswith('__')]\n",
    "        if data_keys: return mat_data[data_keys[0]]\n",
    "        return None\n",
    "    except Exception as e:\n",
    "        print(f\"Error loading {label_path}: {e}\")\n",
    "        return None\n",
    "\n",
    "# Fungsi baru untuk membuat DataFrame berisi informasi klip\n",
    "def create_clips_dataframe(videos_dir, labels_dir):\n",
    "    all_clips_data = []\n",
    "    video_paths = sorted(glob.glob(os.path.join(videos_dir, \"*.mp4\")))\n",
    "    \n",
    "    # Kita butuh FPS untuk konversi frame nanti. Asumsikan 30 FPS.\n",
    "    # Jika berbeda, decord akan membacanya nanti.\n",
    "    fps_skip = 2 # Dari 30fps di video asli ke 15fps target \n",
    "\n",
    "    for video_path in video_paths:\n",
    "        match = re.search(r'(\\d+)_(\\d+)\\.mp4', os.path.basename(video_path))\n",
    "        if not match: continue\n",
    "        \n",
    "        base_id, sub_id = match.groups()\n",
    "        video_id_str = f\"{base_id}_{sub_id}\"\n",
    "        \n",
    "        label_path = os.path.join(labels_dir, f\"{video_id_str}_label.mat\")\n",
    "        if not os.path.exists(label_path): continue\n",
    "\n",
    "        labels_data = load_mat_labels(label_path)\n",
    "        if labels_data is None: continue\n",
    "\n",
    "        # Logika Anda untuk membuat interval aksi dari .mat\n",
    "        action_intervals = []\n",
    "        for class_idx, class_actions in enumerate(labels_data):\n",
    "            if len(class_actions[0]) > 0:\n",
    "                for start_frame, end_frame in class_actions[0]:\n",
    "                    action_intervals.append({\n",
    "                        'start': int(start_frame) - 1, # 0-based\n",
    "                        'end': int(end_frame) - 1,   # 0-based\n",
    "                        'class': class_idx # 1-5\n",
    "                    })\n",
    "        action_intervals.sort(key=lambda x: x['start'])\n",
    "\n",
    "        # Logika Anda untuk membuat klip, termasuk kelas BACKGROUND\n",
    "        current_frame = 0\n",
    "        video_total_frames = 10000 # Placeholder, akan dibaca decord nanti\n",
    "        \n",
    "        for interval in action_intervals:\n",
    "            if current_frame < interval['start']:\n",
    "                all_clips_data.append({\n",
    "                    'video_id': video_id_str,\n",
    "                    'start_frame': current_frame,\n",
    "                    'end_frame': interval['start'] - 1,\n",
    "                    'class': 0 # Background\n",
    "                })\n",
    "            \n",
    "            all_clips_data.append({\n",
    "                'video_id': video_id_str,\n",
    "                'start_frame': interval['start'],\n",
    "                'end_frame': interval['end'],\n",
    "                'class': interval['class']\n",
    "            })\n",
    "            current_frame = interval['end'] + 1\n",
    "        \n",
    "        # Sisa klip background di akhir\n",
    "        # Kita tidak perlu ini sekarang, biarkan Dataset yang mengaturnya nanti\n",
    "    \n",
    "    return pd.DataFrame(all_clips_data)\n",
    "\n",
    "# Buat DataFrame utama\n",
    "print(\"Creating master DataFrame from labels...\")\n",
    "combined_df = create_clips_dataframe(VIDEOS_DIR, LABELS_DIR)\n",
    "\n",
    "# Hapus klip yang terlalu pendek\n",
    "min_clip_length = 8 # Minimal 8 frame @30fps, atau ~0.25 detik\n",
    "combined_df['duration'] = combined_df['end_frame'] - combined_df['start_frame']\n",
    "combined_df = combined_df[combined_df['duration'] >= min_clip_length].reset_index(drop=True)\n",
    "\n",
    "print(f\"DataFrame created with {len(combined_df)} clips.\")\n",
    "print(\"\\nClass Distribution:\")\n",
    "print(combined_df['class'].value_counts().sort_index())\n",
    "combined_df.head()"
   ]
  },
  {
   "cell_type": "code",
   "execution_count": 5,
   "metadata": {
    "execution": {
     "iopub.execute_input": "2025-07-02T17:52:14.175062Z",
     "iopub.status.busy": "2025-07-02T17:52:14.174756Z",
     "iopub.status.idle": "2025-07-02T17:52:14.188519Z",
     "shell.execute_reply": "2025-07-02T17:52:14.187919Z",
     "shell.execute_reply.started": "2025-07-02T17:52:14.175041Z"
    },
    "trusted": true
   },
   "outputs": [
    {
     "name": "stdout",
     "output_type": "stream",
     "text": [
      "Data split successfully:\n",
      "  Training set:   36 clips\n",
      "  Validation set: 8 clips\n",
      "  Test set:       8 clips\n"
     ]
    }
   ],
   "source": [
    "from sklearn.model_selection import train_test_split\n",
    "\n",
    "# Split data 70% train, 15% validation, 15% test\n",
    "train_df, temp_df = train_test_split(\n",
    "    combined_df,\n",
    "    test_size=0.3,\n",
    "    stratify=combined_df['class'],\n",
    "    random_state=42\n",
    ")\n",
    "\n",
    "val_df, test_df = train_test_split(\n",
    "    temp_df,\n",
    "    test_size=0.5,\n",
    "    stratify=temp_df['class'],\n",
    "    random_state=42\n",
    ")\n",
    "\n",
    "print(f\"Data split successfully:\")\n",
    "print(f\"  Training set:   {len(train_df)} clips\")\n",
    "print(f\"  Validation set: {len(val_df)} clips\")\n",
    "print(f\"  Test set:       {len(test_df)} clips\")\n"
   ]
  },
  {
   "cell_type": "code",
   "execution_count": 6,
   "metadata": {
    "execution": {
     "iopub.execute_input": "2025-07-02T17:52:16.740306Z",
     "iopub.status.busy": "2025-07-02T17:52:16.740043Z",
     "iopub.status.idle": "2025-07-02T17:52:16.746688Z",
     "shell.execute_reply": "2025-07-02T17:52:16.746100Z",
     "shell.execute_reply.started": "2025-07-02T17:52:16.740287Z"
    },
    "trusted": true
   },
   "outputs": [],
   "source": [
    "import torch\n",
    "from torch.utils.data import Dataset\n",
    "from decord import VideoReader, cpu\n",
    "\n",
    "class MerlVideoDataset(Dataset):\n",
    "    def __init__(self, df, image_processor, videos_dir, num_frames=16):\n",
    "        self.df = df\n",
    "        self.image_processor = image_processor\n",
    "        self.videos_dir = videos_dir\n",
    "        self.num_frames = num_frames\n",
    "\n",
    "    def __len__(self):\n",
    "        return len(self.df)\n",
    "\n",
    "    def __getitem__(self, idx):\n",
    "        row = self.df.iloc[idx]\n",
    "        video_path = os.path.join(self.videos_dir, f\"{row['video_id']}.mp4\")\n",
    "\n",
    "        # Baca video dengan decord\n",
    "        vr = VideoReader(video_path, ctx=cpu(0))\n",
    "        total_frames_in_video = len(vr)\n",
    "\n",
    "        # Ambil frame indices dari klip yang didefinisikan\n",
    "        start_frame = row['start_frame']\n",
    "        end_frame = row['end_frame']\n",
    "        \n",
    "        # Buat sampel frame secara merata di dalam klip\n",
    "        indices = np.linspace(start_frame, end_frame, num=self.num_frames, dtype=int)\n",
    "        indices = np.clip(indices, 0, total_frames_in_video - 1)\n",
    "\n",
    "        # Ambil frame yang dibutuhkan secara efisien\n",
    "        frames = vr.get_batch(indices).asnumpy()\n",
    "\n",
    "        # Proses menggunakan processor dari Hugging Face (normalisasi, resize)\n",
    "        processed_frames = self.image_processor(list(frames), return_tensors=\"pt\")\n",
    "\n",
    "        return {\n",
    "            \"pixel_values\": processed_frames.pixel_values.squeeze(0), # Hapus dimensi batch\n",
    "            \"labels\": torch.tensor(row['class'], dtype=torch.long)\n",
    "        }"
   ]
  },
  {
   "cell_type": "code",
   "execution_count": null,
   "metadata": {
    "execution": {
     "iopub.execute_input": "2025-07-02T17:52:20.099897Z",
     "iopub.status.busy": "2025-07-02T17:52:20.099219Z",
     "iopub.status.idle": "2025-07-02T17:52:20.104332Z",
     "shell.execute_reply": "2025-07-02T17:52:20.103673Z",
     "shell.execute_reply.started": "2025-07-02T17:52:20.099867Z"
    },
    "trusted": true
   },
   "outputs": [],
   "source": [
    "class CustomTrainer(Trainer):\n",
    "    def compute_loss(self, model, inputs, return_outputs=False, **kwargs):\n",
    "        labels = inputs.pop(\"labels\")\n",
    "        # Forward pass\n",
    "        outputs = model(**inputs)\n",
    "        logits = outputs.get('logits')\n",
    "        # Hitung loss dengan bobot yang sudah kita definisikan\n",
    "        loss_fct = nn.CrossEntropyLoss(weight=class_weights_tensor)\n",
    "        loss = loss_fct(logits.view(-1, self.model.config.num_labels), labels.view(-1))\n",
    "        return (loss, outputs) if return_outputs else loss"
   ]
  },
  {
   "cell_type": "code",
   "execution_count": 8,
   "metadata": {
    "execution": {
     "iopub.execute_input": "2025-07-02T17:52:22.650063Z",
     "iopub.status.busy": "2025-07-02T17:52:22.649791Z",
     "iopub.status.idle": "2025-07-02T17:52:23.046780Z",
     "shell.execute_reply": "2025-07-02T17:52:23.045972Z",
     "shell.execute_reply.started": "2025-07-02T17:52:22.650044Z"
    },
    "trusted": true
   },
   "outputs": [
    {
     "data": {
      "application/vnd.jupyter.widget-view+json": {
       "model_id": "28819675157b4c4e936af976ee398a57",
       "version_major": 2,
       "version_minor": 0
      },
      "text/plain": [
       "Downloading builder script: 0.00B [00:00, ?B/s]"
      ]
     },
     "metadata": {},
     "output_type": "display_data"
    }
   ],
   "source": [
    "accuracy_metric = evaluate.load(\"accuracy\")\n",
    "def compute_metrics(eval_pred):\n",
    "    predictions = np.argmax(eval_pred.predictions, axis=1)\n",
    "    return accuracy_metric.compute(predictions=predictions, references=eval_pred.label_ids)"
   ]
  },
  {
   "cell_type": "markdown",
   "metadata": {},
   "source": [
    "# Perbedaan di sini"
   ]
  },
  {
   "cell_type": "code",
   "execution_count": 10,
   "metadata": {
    "execution": {
     "iopub.execute_input": "2025-07-02T17:53:08.898316Z",
     "iopub.status.busy": "2025-07-02T17:53:08.897690Z",
     "iopub.status.idle": "2025-07-02T17:53:09.384687Z",
     "shell.execute_reply": "2025-07-02T17:53:09.383901Z",
     "shell.execute_reply.started": "2025-07-02T17:53:08.898293Z"
    },
    "trusted": true
   },
   "outputs": [
    {
     "name": "stdout",
     "output_type": "stream",
     "text": [
      "base model dari Hugging Face Hub: haipradana/test-m-e-r-l\n",
      "Bobot Kelas untuk dataset adaptasi: [1.2        1.         1.         0.85714287 1.         1.        ]\n"
     ]
    }
   ],
   "source": [
    "BASE_MODEL_REPO_ID = \"haipradana/test-m-e-r-l\"\n",
    "\n",
    "print(f\"base model dari Hugging Face Hub: {BASE_MODEL_REPO_ID}\")\n",
    "\n",
    "device = torch.device(\"cuda\" if torch.cuda.is_available() else \"cpu\")\n",
    "\n",
    "# Muat arsitektur dan bobot langsung dari HF\n",
    "model = AutoModelForVideoClassification.from_pretrained(BASE_MODEL_REPO_ID)\n",
    "image_processor = AutoImageProcessor.from_pretrained(BASE_MODEL_REPO_ID)\n",
    "\n",
    "model.to(device)\n",
    "\n",
    "# Siapkan dataset yg kubuat wkkw (sepertinya ngga terlalu perngaruh banyak karena cuma dikit)\n",
    "# Pastikan train_df dan val_df dibuat dari data CCTV yang baru diproses\n",
    "train_dataset_new = MerlVideoDataset(train_df, image_processor, VIDEOS_DIR, num_frames=24)\n",
    "val_dataset_new = MerlVideoDataset(val_df, image_processor, VIDEOS_DIR, num_frames=24)\n",
    "\n",
    "# hitung class weight\n",
    "class_counts = train_df['class'].value_counts().sort_index().values\n",
    "total_samples = class_counts.sum()\n",
    "num_classes = len(class_counts)\n",
    "class_weights = total_samples / (num_classes * class_counts)\n",
    "class_weights_tensor = torch.tensor(class_weights, dtype=torch.float).to(\"cuda\")\n",
    "print(f\"Bobot Kelas untuk dataset adaptasi: {class_weights_tensor.cpu().numpy()}\")\n",
    "\n",
    "# config traning\n",
    "training_args_adaptation = TrainingArguments(\n",
    "    output_dir=os.path.join(WORK_DIR, \"timesformer-final-adapted-model\"), # Folder output baru\n",
    "    num_train_epochs=15,          # Sedikit epoch sudah cukup untuk adaptasi\n",
    "    learning_rate=1e-5,           # WAJIB: Learning rate SANGAT KECIL\n",
    "    per_device_train_batch_size=2,\n",
    "    per_device_eval_batch_size=2,\n",
    "    gradient_accumulation_steps=4,\n",
    "    weight_decay=0.05,\n",
    "    logging_strategy=\"epoch\", \n",
    "    logging_steps=20, \n",
    "    eval_strategy=\"epoch\",\n",
    "    save_strategy=\"epoch\",\n",
    "    load_best_model_at_end=True,\n",
    "    save_total_limit=2,\n",
    "    fp16=True,\n",
    "    report_to=\"none\",\n",
    ")\n",
    "\n",
    "# inisiasi trainer\n",
    "# sunakan `compute_metrics` yang sama seperti sebelumnya (merl)\n",
    "trainer_adaptation = CustomTrainer(\n",
    "    model=model,\n",
    "    args=training_args_adaptation,\n",
    "    train_dataset=train_dataset_new,\n",
    "    eval_dataset=val_dataset_new,\n",
    "    compute_metrics=compute_metrics,\n",
    "    processing_class=image_processor,\n",
    "    callbacks=[EarlyStoppingCallback(early_stopping_patience=3)]\n",
    ")\n"
   ]
  },
  {
   "cell_type": "code",
   "execution_count": 12,
   "metadata": {
    "execution": {
     "iopub.execute_input": "2025-07-02T17:53:18.730077Z",
     "iopub.status.busy": "2025-07-02T17:53:18.729761Z",
     "iopub.status.idle": "2025-07-02T18:07:15.977656Z",
     "shell.execute_reply": "2025-07-02T18:07:15.976852Z",
     "shell.execute_reply.started": "2025-07-02T17:53:18.730050Z"
    },
    "trusted": true
   },
   "outputs": [
    {
     "name": "stdout",
     "output_type": "stream",
     "text": [
      "\n",
      "Fine Tune Domain Adaptation...\n"
     ]
    },
    {
     "data": {
      "text/html": [
       "\n",
       "    <div>\n",
       "      \n",
       "      <progress value='45' max='45' style='width:300px; height:20px; vertical-align: middle;'></progress>\n",
       "      [45/45 13:30, Epoch 15/15]\n",
       "    </div>\n",
       "    <table border=\"1\" class=\"dataframe\">\n",
       "  <thead>\n",
       " <tr style=\"text-align: left;\">\n",
       "      <th>Epoch</th>\n",
       "      <th>Training Loss</th>\n",
       "      <th>Validation Loss</th>\n",
       "      <th>Accuracy</th>\n",
       "    </tr>\n",
       "  </thead>\n",
       "  <tbody>\n",
       "    <tr>\n",
       "      <td>1</td>\n",
       "      <td>1.313900</td>\n",
       "      <td>1.212843</td>\n",
       "      <td>0.625000</td>\n",
       "    </tr>\n",
       "    <tr>\n",
       "      <td>2</td>\n",
       "      <td>0.860900</td>\n",
       "      <td>1.088616</td>\n",
       "      <td>0.750000</td>\n",
       "    </tr>\n",
       "    <tr>\n",
       "      <td>3</td>\n",
       "      <td>0.662900</td>\n",
       "      <td>0.985129</td>\n",
       "      <td>0.750000</td>\n",
       "    </tr>\n",
       "    <tr>\n",
       "      <td>4</td>\n",
       "      <td>0.513800</td>\n",
       "      <td>0.941124</td>\n",
       "      <td>0.750000</td>\n",
       "    </tr>\n",
       "    <tr>\n",
       "      <td>5</td>\n",
       "      <td>0.386600</td>\n",
       "      <td>0.902535</td>\n",
       "      <td>0.750000</td>\n",
       "    </tr>\n",
       "    <tr>\n",
       "      <td>6</td>\n",
       "      <td>0.297100</td>\n",
       "      <td>0.900085</td>\n",
       "      <td>0.750000</td>\n",
       "    </tr>\n",
       "    <tr>\n",
       "      <td>7</td>\n",
       "      <td>0.234600</td>\n",
       "      <td>0.897958</td>\n",
       "      <td>0.750000</td>\n",
       "    </tr>\n",
       "    <tr>\n",
       "      <td>8</td>\n",
       "      <td>0.185500</td>\n",
       "      <td>0.896628</td>\n",
       "      <td>0.750000</td>\n",
       "    </tr>\n",
       "    <tr>\n",
       "      <td>9</td>\n",
       "      <td>0.152700</td>\n",
       "      <td>0.891320</td>\n",
       "      <td>0.750000</td>\n",
       "    </tr>\n",
       "    <tr>\n",
       "      <td>10</td>\n",
       "      <td>0.124400</td>\n",
       "      <td>0.870555</td>\n",
       "      <td>0.750000</td>\n",
       "    </tr>\n",
       "    <tr>\n",
       "      <td>11</td>\n",
       "      <td>0.104600</td>\n",
       "      <td>0.855347</td>\n",
       "      <td>0.750000</td>\n",
       "    </tr>\n",
       "    <tr>\n",
       "      <td>12</td>\n",
       "      <td>0.090100</td>\n",
       "      <td>0.855298</td>\n",
       "      <td>0.750000</td>\n",
       "    </tr>\n",
       "    <tr>\n",
       "      <td>13</td>\n",
       "      <td>0.080000</td>\n",
       "      <td>0.864331</td>\n",
       "      <td>0.750000</td>\n",
       "    </tr>\n",
       "    <tr>\n",
       "      <td>14</td>\n",
       "      <td>0.073600</td>\n",
       "      <td>0.869735</td>\n",
       "      <td>0.750000</td>\n",
       "    </tr>\n",
       "    <tr>\n",
       "      <td>15</td>\n",
       "      <td>0.070200</td>\n",
       "      <td>0.873379</td>\n",
       "      <td>0.750000</td>\n",
       "    </tr>\n",
       "  </tbody>\n",
       "</table><p>"
      ],
      "text/plain": [
       "<IPython.core.display.HTML object>"
      ]
     },
     "metadata": {},
     "output_type": "display_data"
    },
    {
     "data": {
      "text/plain": [
       "TrainOutput(global_step=45, training_loss=0.3433888720141517, metrics={'train_runtime': 836.6674, 'train_samples_per_second': 0.645, 'train_steps_per_second': 0.054, 'total_flos': 1.4193946449956045e+18, 'train_loss': 0.3433888720141517, 'epoch': 15.0})"
      ]
     },
     "execution_count": 12,
     "metadata": {},
     "output_type": "execute_result"
    }
   ],
   "source": [
    "print(\"\\nFine Tune Domain Adaptation...\")\n",
    "trainer_adaptation.train()"
   ]
  },
  {
   "cell_type": "markdown",
   "metadata": {},
   "source": [
    "Performa Puncak: Metrik validation loss mencapai titik terendahnya pada Epoch 12 dengan nilai 0.855.\n",
    "Indikasi Overfitting: Setelah Epoch 12, validation loss secara konsisten mulai meningkat (0.864, 0.869, 0.873). Ini adalah indikasi jelas bahwa model mulai overfitting terhadap data training yang terbatas.\n",
    "Seleksi Model: strategi load_best_model_at_end, model yang digunakan untuk tahap evaluasi adalah model dari checkpoint Epoch 12, yang merupakan representasi performa optimal sebelum terjadinya overfitting."
   ]
  },
  {
   "cell_type": "code",
   "execution_count": 13,
   "metadata": {
    "execution": {
     "iopub.execute_input": "2025-07-02T18:11:17.220759Z",
     "iopub.status.busy": "2025-07-02T18:11:17.220461Z",
     "iopub.status.idle": "2025-07-02T18:11:17.434841Z",
     "shell.execute_reply": "2025-07-02T18:11:17.434168Z",
     "shell.execute_reply.started": "2025-07-02T18:11:17.220730Z"
    },
    "trusted": true
   },
   "outputs": [
    {
     "name": "stdout",
     "output_type": "stream",
     "text": [
      "mkdir: cannot create directory ‘/kaggle/working/output’: File exists\n",
      "Logs saved!\n"
     ]
    }
   ],
   "source": [
    "import pandas as pd \n",
    "\n",
    "!mkdir /kaggle/working/output\n",
    "logs = trainer_adaptation.state.log_history\n",
    "log_df = pd.DataFrame(logs)\n",
    "# %cd /kaggle/working\n",
    "# !mkdir /outputnya/\n",
    "output_dir = \"/kaggle/working/output\"\n",
    "log_df.to_csv(os.path.join(output_dir, \"training_logs.csv\"), index=False)\n",
    "print(\"Logs saved!\")"
   ]
  },
  {
   "cell_type": "code",
   "execution_count": 17,
   "metadata": {
    "execution": {
     "iopub.execute_input": "2025-07-02T18:14:10.193570Z",
     "iopub.status.busy": "2025-07-02T18:14:10.192871Z",
     "iopub.status.idle": "2025-07-02T18:14:22.993568Z",
     "shell.execute_reply": "2025-07-02T18:14:22.992989Z",
     "shell.execute_reply.started": "2025-07-02T18:14:10.193547Z"
    },
    "trusted": true
   },
   "outputs": [
    {
     "data": {
      "text/html": [],
      "text/plain": [
       "<IPython.core.display.HTML object>"
      ]
     },
     "metadata": {},
     "output_type": "display_data"
    },
    {
     "name": "stdout",
     "output_type": "stream",
     "text": [
      "\n",
      " Akurasi Final di Test Set: 0.7500 (75.00%)\n"
     ]
    },
    {
     "data": {
      "image/png": "[encoded data removed]",
      "text/plain": [
       "<Figure size 1000x800 with 2 Axes>"
      ]
     },
     "metadata": {},
     "output_type": "display_data"
    },
    {
     "name": "stdout",
     "output_type": "stream",
     "text": [
      "\n",
      "📄 Laporan Klasifikasi Rinci:\n",
      "                    precision    recall  f1-score   support\n",
      "\n",
      "        Background       1.00      1.00      1.00         1\n",
      "    Reach To Shelf       0.50      0.50      0.50         2\n",
      "Retract From Shelf       1.00      1.00      1.00         1\n",
      "     Hand In Shelf       0.50      0.50      0.50         2\n",
      "   Inspect Product       1.00      1.00      1.00         1\n",
      "     Inspect Shelf       1.00      1.00      1.00         1\n",
      "\n",
      "          accuracy                           0.75         8\n",
      "         macro avg       0.83      0.83      0.83         8\n",
      "      weighted avg       0.75      0.75      0.75         8\n",
      "\n"
     ]
    }
   ],
   "source": [
    "import numpy as np\n",
    "import seaborn as sns\n",
    "import matplotlib.pyplot as plt\n",
    "from sklearn.metrics import confusion_matrix, classification_report\n",
    "\n",
    "class_names = [\"Background\", \"Reach To Shelf\", \"Retract From Shelf\", \"Hand In Shelf\", \"Inspect Product\", \"Inspect Shelf\"]\n",
    "\n",
    "test_dataset = MerlVideoDataset(test_df, image_processor, VIDEOS_DIR, num_frames=48)\n",
    "\n",
    "# prediksi\n",
    "test_results = trainer_adaptation.predict(test_dataset)\n",
    "\n",
    "# Ambil metrik akurasi dari hasil prediksi\n",
    "final_accuracy = test_results.metrics['test_accuracy']\n",
    "print(f\"\\n Akurasi Final di Test Set: {final_accuracy:.4f} ({final_accuracy:.2%})\")\n",
    "\n",
    "# Buat dan Tampilkan Confusion Matrix ---\n",
    "\n",
    "# Ambil label asli dan hasil prediksi\n",
    "true_labels = test_results.label_ids\n",
    "predicted_labels = np.argmax(test_results.predictions, axis=1)\n",
    "\n",
    "# Buat confusion matrix\n",
    "cm = confusion_matrix(true_labels, predicted_labels, normalize='true')\n",
    "\n",
    "# Visualisasikan dengan heatmap\n",
    "plt.figure(figsize=(10, 8))\n",
    "sns.heatmap(cm, annot=True, fmt='.2f', cmap='Blues', \n",
    "            xticklabels=class_names, yticklabels=class_names)\n",
    "plt.title('Confusion Matrix pada Test Set')\n",
    "plt.ylabel('Label Asli (True Label)')\n",
    "plt.xlabel('Label Prediksi (Predicted Label)')\n",
    "plt.show()\n",
    "\n",
    "print(\"\\n📄 Laporan Klasifikasi Rinci:\")\n",
    "# Gunakan `zero_division=0` untuk menghindari warning jika ada kelas tanpa sampel\n",
    "report = classification_report(true_labels, predicted_labels, target_names=class_names, zero_division=0)\n",
    "print(report)"
   ]
  },
  {
   "cell_type": "markdown",
   "metadata": {},
   "source": [
    "Untuk mengevaluasi kemampuan adaptasi model, kami melakukan pengujian pada set data target yang sangat terbatas, terdiri dari 8 klip video. Penting untuk dicatat bahwa karena ukuran sampel yang kecil, hasil kuantitatif berikut bersifat ilustratif dan tidak dapat diandalkan secara statistik.\n",
    "\n",
    "Meskipun demikian, evaluasi awal ini memberikan beberapa wawasan penting:\n",
    "\n",
    "Model mencapai akurasi 83%, menunjukkan bahwa proses adaptasi domain berpotensi efektif.\n",
    "Analisis confusion matrix menunjukkan bahwa model masih kesulitan membedakan antara aksi 'Reach To Shelf' dan 'Hand In Shelf', yang konsisten dengan hasil pada domain sumber. Hal ini menyiratkan bahwa tantangan utama terletak pada pembedaan gerakan yang secara visual mirip.\n",
    "Kesimpulannya, adaptasi domain adalah langkah yang menjanjikan, namun evaluasi yang lebih kuat dengan dataset target yang lebih besar sangat diperlukan untuk memvalidasi performa model secara definitif"
   ]
  },
  {
   "cell_type": "code",
   "execution_count": 15,
   "metadata": {
    "execution": {
     "iopub.execute_input": "2025-07-02T18:12:50.602540Z",
     "iopub.status.busy": "2025-07-02T18:12:50.601604Z",
     "iopub.status.idle": "2025-07-02T18:12:50.606296Z",
     "shell.execute_reply": "2025-07-02T18:12:50.605458Z",
     "shell.execute_reply.started": "2025-07-02T18:12:50.602514Z"
    },
    "trusted": true
   },
   "outputs": [
    {
     "name": "stdout",
     "output_type": "stream",
     "text": [
      "/kaggle/working/timesformer-final-adapted-model/checkpoint-36\n"
     ]
    }
   ],
   "source": [
    "best_checkpoint_path = trainer_adaptation.state.best_model_checkpoint\n",
    "\n",
    "print(best_checkpoint_path)"
   ]
  },
  {
   "cell_type": "code",
   "execution_count": 22,
   "metadata": {
    "execution": {
     "iopub.execute_input": "2025-07-01T07:29:27.297106Z",
     "iopub.status.busy": "2025-07-01T07:29:27.296405Z",
     "iopub.status.idle": "2025-07-01T07:29:51.017784Z",
     "shell.execute_reply": "2025-07-01T07:29:51.017156Z",
     "shell.execute_reply.started": "2025-07-01T07:29:27.297077Z"
    },
    "trusted": true
   },
   "outputs": [
    {
     "data": {
      "text/plain": [
       "'/kaggle/working/output/model-checkpoint15.zip'"
      ]
     },
     "execution_count": 22,
     "metadata": {},
     "output_type": "execute_result"
    }
   ],
   "source": [
    "import shutil\n",
    "\n",
    "shutil.make_archive('output/model-checkpoint15', 'zip', '/kaggle/working/timesformer-final-adapted-model/checkpoint-15')"
   ]
  }
 ],
 "metadata": {
  "kaggle": {
   "accelerator": "nvidiaTeslaT4",
   "dataSources": [],
   "dockerImageVersionId": 31041,
   "isGpuEnabled": true,
   "isInternetEnabled": true,
   "language": "python",
   "sourceType": "notebook"
  },
  "kernelspec": {
   "display_name": "Python 3",
   "language": "python",
   "name": "python3"
  },
  "language_info": {
   "codemirror_mode": {
    "name": "ipython",
    "version": 3
   },
   "file_extension": ".py",
   "mimetype": "text/x-python",
   "name": "python",
   "nbconvert_exporter": "python",
   "pygments_lexer": "ipython3",
   "version": "3.11.11"
  }
 },
 "nbformat": 4,
 "nbformat_minor": 4
}
