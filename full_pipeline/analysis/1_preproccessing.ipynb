{
 "cells": [
  {
   "cell_type": "code",
   "execution_count": 1,
   "id": "b958ca4b",
   "metadata": {},
   "outputs": [],
   "source": [
    "import pandas as pd\n",
    "import os\n",
    "\n",
    "def preprocess_data():\n",
    "    \"\"\"\n",
    "    Memuat data log, membersihkan, melakukan pra-pemrosesan, \n",
    "    dan menyimpan hasilnya.\n",
    "    \"\"\"\n",
    "    # Tentukan path relatif terhadap lokasi script\n",
    "    input_path = os.path.join('..', 'output', 'action_shelf_log.csv')\n",
    "    output_dir = 'preprocessed_data'\n",
    "    output_path = os.path.join(output_dir, 'cleaned_action_shelf_log.csv')\n",
    "\n",
    "    # Buat direktori output jika belum ada\n",
    "    if not os.path.exists(output_dir):\n",
    "        os.makedirs(output_dir)\n",
    "\n",
    "    print(f\"Membaca data dari: {input_path}\")\n",
    "    try:\n",
    "        df = pd.read_csv(input_path)\n",
    "    except FileNotFoundError:\n",
    "        print(f\"Error: File tidak ditemukan di {input_path}\")\n",
    "        print(\"Pastikan file 'action_shelf_log.csv' ada di dalam folder 'full_pipeline/output/'.\")\n",
    "        return\n",
    "\n",
    "    # 1. Urutkan data berdasarkan pelanggan (pid) dan waktu (frame)\n",
    "    df_sorted = df.sort_values(by=['pid', 'frame']).reset_index(drop=True)\n",
    "    print(f\"Data diurutkan berdasarkan 'pid' dan 'frame'. Jumlah baris awal: {len(df_sorted)}\")\n",
    "\n",
    "    # 2. Tangani duplikasi frame dengan prioritas aksi\n",
    "    # Aksi dengan intensi lebih tinggi diberi prioritas lebih tinggi.\n",
    "    action_priority = [\n",
    "        'Retract From Shelf',\n",
    "        'Reach To Shelf',\n",
    "        'Inspect Product',\n",
    "        'Inspect Shelf',\n",
    "        'Hand In Shelf',\n",
    "        'Background'\n",
    "    ]\n",
    "    \n",
    "    # Ubah kolom 'action' menjadi tipe kategori dengan urutan prioritas\n",
    "    df_sorted['action'] = pd.Categorical(df_sorted['action'], categories=action_priority, ordered=True)\n",
    "\n",
    "    # Urutkan lagi dengan prioritas aksi, lalu hapus duplikat\n",
    "    df_cleaned = df_sorted.sort_values(by=['pid', 'frame', 'action'])\n",
    "    df_cleaned = df_cleaned.drop_duplicates(subset=['pid', 'frame'], keep='first')\n",
    "    \n",
    "    print(f\"Duplikasi frame ditangani. Jumlah baris setelah pembersihan: {len(df_cleaned)}\")\n",
    "\n",
    "    # 3. Simpan data yang sudah bersih\n",
    "    df_cleaned.to_csv(output_path, index=False)\n",
    "    print(f\"Data bersih telah disimpan di: {output_path}\")"
   ]
  },
  {
   "cell_type": "code",
   "execution_count": 2,
   "id": "8e5c8be7",
   "metadata": {},
   "outputs": [
    {
     "name": "stdout",
     "output_type": "stream",
     "text": [
      "Membaca data dari: ..\\output\\action_shelf_log.csv\n",
      "Data diurutkan berdasarkan 'pid' dan 'frame'. Jumlah baris awal: 1893\n",
      "Duplikasi frame ditangani. Jumlah baris setelah pembersihan: 1415\n",
      "Data bersih telah disimpan di: preprocessed_data\\cleaned_action_shelf_log.csv\n"
     ]
    }
   ],
   "source": [
    "if __name__ == '__main__':\n",
    "    preprocess_data()"
   ]
  }
 ],
 "metadata": {
  "kernelspec": {
   "display_name": "base",
   "language": "python",
   "name": "python3"
  },
  "language_info": {
   "codemirror_mode": {
    "name": "ipython",
    "version": 3
   },
   "file_extension": ".py",
   "mimetype": "text/x-python",
   "name": "python",
   "nbconvert_exporter": "python",
   "pygments_lexer": "ipython3",
   "version": "3.12.3"
  }
 },
 "nbformat": 4,
 "nbformat_minor": 5
}
